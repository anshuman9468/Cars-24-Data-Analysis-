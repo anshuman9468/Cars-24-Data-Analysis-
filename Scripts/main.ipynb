{
 "cells": [
  {
   "cell_type": "code",
   "execution_count": 54,
   "id": "6ebb63a9",
   "metadata": {},
   "outputs": [],
   "source": [
    "import pandas as pd\n",
    "import numpy as np\n",
    "import matplotlib as plt\n",
    "import seaborn as sns\n"
   ]
  },
  {
   "cell_type": "markdown",
   "id": "393da105",
   "metadata": {},
   "source": [
    "## Reading the Data First\n"
   ]
  },
  {
   "cell_type": "code",
   "execution_count": null,
   "id": "04345c69",
   "metadata": {},
   "outputs": [
    {
     "name": "stdout",
     "output_type": "stream",
     "text": [
      "      Unnamed: 0                Car Name    Year  Distance  Owner    Fuel  \\\n",
      "0              0         Maruti S PRESSO  2022.0      3878      1  PETROL   \n",
      "1              1           Hyundai Xcent  2018.0     32041      1  PETROL   \n",
      "2              2             Tata Safari  2021.0     96339      1  DIESEL   \n",
      "3              3    Maruti Vitara Brezza  2019.0     51718      1  DIESEL   \n",
      "4              4              Tata Tiago  2021.0     19811      1  PETROL   \n",
      "...          ...                     ...     ...       ...    ...     ...   \n",
      "8010        8010          Datsun Redi Go  2018.0     11500      1  PETROL   \n",
      "8011        8011            Toyota YARIS  2018.0     73393      2  PETROL   \n",
      "8012        8012         Volkswagen Ameo  2016.0     83810      2  PETROL   \n",
      "8013        8013  Hyundai GRAND I10 NIOS  2019.0     39162      1  PETROL   \n",
      "8014        8014              Tata TIGOR  2022.0     82009      2  PETROL   \n",
      "\n",
      "     Location      Drive       Type    Price  \n",
      "0       HR-98     Manual  HatchBack   514000  \n",
      "1       TN-22     Manual      Sedan   674000  \n",
      "2       TS-08  Automatic        SUV  1952000  \n",
      "3       WB-24     Manual        SUV   690000  \n",
      "4       HR-51     Manual  HatchBack   526000  \n",
      "...       ...        ...        ...      ...  \n",
      "8010    MH-01     Manual  HatchBack   292000  \n",
      "8011    KA-03     Manual      Sedan   534000  \n",
      "8012    UP-78     Manual      Sedan   424000  \n",
      "8013    CH-01  Automatic  HatchBack   685000  \n",
      "8014    MH-02     Manual      Sedan   392000  \n",
      "\n",
      "[8015 rows x 10 columns]\n",
      "   Unnamed: 0              Car Name    Year  Distance  Owner    Fuel Location  \\\n",
      "0           0       Maruti S PRESSO  2022.0      3878      1  PETROL    HR-98   \n",
      "1           1         Hyundai Xcent  2018.0     32041      1  PETROL    TN-22   \n",
      "2           2           Tata Safari  2021.0     96339      1  DIESEL    TS-08   \n",
      "3           3  Maruti Vitara Brezza  2019.0     51718      1  DIESEL    WB-24   \n",
      "4           4            Tata Tiago  2021.0     19811      1  PETROL    HR-51   \n",
      "\n",
      "       Drive       Type    Price  \n",
      "0     Manual  HatchBack   514000  \n",
      "1     Manual      Sedan   674000  \n",
      "2  Automatic        SUV  1952000  \n",
      "3     Manual        SUV   690000  \n",
      "4     Manual  HatchBack   526000  \n",
      "<class 'pandas.core.frame.DataFrame'>\n",
      "RangeIndex: 8015 entries, 0 to 8014\n",
      "Data columns (total 10 columns):\n",
      " #   Column      Non-Null Count  Dtype  \n",
      "---  ------      --------------  -----  \n",
      " 0   Unnamed: 0  8015 non-null   int64  \n",
      " 1   Car Name    8014 non-null   object \n",
      " 2   Year        8014 non-null   float64\n",
      " 3   Distance    8015 non-null   int64  \n",
      " 4   Owner       8015 non-null   int64  \n",
      " 5   Fuel        8015 non-null   object \n",
      " 6   Location    7802 non-null   object \n",
      " 7   Drive       8015 non-null   object \n",
      " 8   Type        8015 non-null   object \n",
      " 9   Price       8015 non-null   int64  \n",
      "dtypes: float64(1), int64(4), object(5)\n",
      "memory usage: 626.3+ KB\n",
      "None\n",
      "        Unnamed: 0         Year       Distance        Owner         Price\n",
      "count  8015.000000  8014.000000    8015.000000  8015.000000  8.015000e+03\n",
      "mean   4007.000000  2016.995009   52621.411728     1.300187  5.748829e+05\n",
      "std    2313.875537     2.861454   29182.922728     0.510893  2.651049e+05\n",
      "min       0.000000  2010.000000       0.000000     1.000000  1.190000e+05\n",
      "25%    2003.500000  2015.000000   30730.000000     1.000000  3.930000e+05\n",
      "50%    4007.000000  2017.000000   50359.000000     1.000000  5.350000e+05\n",
      "75%    6010.500000  2019.000000   71762.000000     2.000000  6.980000e+05\n",
      "max    8014.000000  2023.000000  971212.000000     4.000000  3.300000e+06\n"
     ]
    }
   ],
   "source": [
    "# df=pd.read_csv(\"cars_24_combined.csv\")\n",
    "# print(df)\n",
    "# print(df.head())\n",
    "# print(df.info())\n",
    "# print(df.describe())"
   ]
  },
  {
   "cell_type": "code",
   "execution_count": 15,
   "id": "2c43d32f",
   "metadata": {},
   "outputs": [
    {
     "name": "stdout",
     "output_type": "stream",
     "text": [
      "Unnamed: 0      0\n",
      "Car Name        1\n",
      "Year            1\n",
      "Distance        0\n",
      "Owner           0\n",
      "Fuel            0\n",
      "Location      213\n",
      "Drive           0\n",
      "Type            0\n",
      "Price           0\n",
      "dtype: int64\n"
     ]
    }
   ],
   "source": [
    "print(df.isnull().sum())"
   ]
  },
  {
   "cell_type": "markdown",
   "id": "20682bc3",
   "metadata": {},
   "source": [
    "## Sorting the table first\n"
   ]
  },
  {
   "cell_type": "code",
   "execution_count": null,
   "id": "499f7444",
   "metadata": {},
   "outputs": [
    {
     "ename": "KeyError",
     "evalue": "\"['Unnamed'] not found in axis\"",
     "output_type": "error",
     "traceback": [
      "\u001b[31m---------------------------------------------------------------------------\u001b[39m",
      "\u001b[31mKeyError\u001b[39m                                  Traceback (most recent call last)",
      "\u001b[36mCell\u001b[39m\u001b[36m \u001b[39m\u001b[32mIn[22]\u001b[39m\u001b[32m, line 2\u001b[39m\n\u001b[32m      1\u001b[39m df.sort_values(by=[\u001b[33m'\u001b[39m\u001b[33mCar Name\u001b[39m\u001b[33m'\u001b[39m,\u001b[33m'\u001b[39m\u001b[33mYear\u001b[39m\u001b[33m'\u001b[39m,\u001b[33m'\u001b[39m\u001b[33mDistance\u001b[39m\u001b[33m'\u001b[39m,\u001b[33m'\u001b[39m\u001b[33mOwner\u001b[39m\u001b[33m'\u001b[39m,\u001b[33m'\u001b[39m\u001b[33mFuel\u001b[39m\u001b[33m'\u001b[39m,\u001b[33m'\u001b[39m\u001b[33mLocation\u001b[39m\u001b[33m'\u001b[39m,\u001b[33m'\u001b[39m\u001b[33mDrive\u001b[39m\u001b[33m'\u001b[39m,\u001b[33m'\u001b[39m\u001b[33mType\u001b[39m\u001b[33m'\u001b[39m,\u001b[33m'\u001b[39m\u001b[33mPrice\u001b[39m\u001b[33m'\u001b[39m],ascending=\u001b[38;5;28;01mTrue\u001b[39;00m,inplace=\u001b[38;5;28;01mTrue\u001b[39;00m)\n\u001b[32m----> \u001b[39m\u001b[32m2\u001b[39m \u001b[43mdf\u001b[49m\u001b[43m.\u001b[49m\u001b[43mdrop\u001b[49m\u001b[43m(\u001b[49m\u001b[43mcolumns\u001b[49m\u001b[43m=\u001b[49m\u001b[43m[\u001b[49m\u001b[33;43m'\u001b[39;49m\u001b[33;43mUnnamed\u001b[39;49m\u001b[33;43m'\u001b[39;49m\u001b[43m]\u001b[49m\u001b[43m)\u001b[49m\n\u001b[32m      3\u001b[39m \u001b[38;5;28mprint\u001b[39m(df)\n",
      "\u001b[36mFile \u001b[39m\u001b[32mc:\\Users\\Anshuman Dutta\\Downloads\\Agentic AI Projects\\1st Project\\venv\\Lib\\site-packages\\pandas\\core\\frame.py:5603\u001b[39m, in \u001b[36mDataFrame.drop\u001b[39m\u001b[34m(self, labels, axis, index, columns, level, inplace, errors)\u001b[39m\n\u001b[32m   5455\u001b[39m \u001b[38;5;28;01mdef\u001b[39;00m\u001b[38;5;250m \u001b[39m\u001b[34mdrop\u001b[39m(\n\u001b[32m   5456\u001b[39m     \u001b[38;5;28mself\u001b[39m,\n\u001b[32m   5457\u001b[39m     labels: IndexLabel | \u001b[38;5;28;01mNone\u001b[39;00m = \u001b[38;5;28;01mNone\u001b[39;00m,\n\u001b[32m   (...)\u001b[39m\u001b[32m   5464\u001b[39m     errors: IgnoreRaise = \u001b[33m\"\u001b[39m\u001b[33mraise\u001b[39m\u001b[33m\"\u001b[39m,\n\u001b[32m   5465\u001b[39m ) -> DataFrame | \u001b[38;5;28;01mNone\u001b[39;00m:\n\u001b[32m   5466\u001b[39m \u001b[38;5;250m    \u001b[39m\u001b[33;03m\"\"\"\u001b[39;00m\n\u001b[32m   5467\u001b[39m \u001b[33;03m    Drop specified labels from rows or columns.\u001b[39;00m\n\u001b[32m   5468\u001b[39m \n\u001b[32m   (...)\u001b[39m\u001b[32m   5601\u001b[39m \u001b[33;03m            weight  1.0     0.8\u001b[39;00m\n\u001b[32m   5602\u001b[39m \u001b[33;03m    \"\"\"\u001b[39;00m\n\u001b[32m-> \u001b[39m\u001b[32m5603\u001b[39m     \u001b[38;5;28;01mreturn\u001b[39;00m \u001b[38;5;28;43msuper\u001b[39;49m\u001b[43m(\u001b[49m\u001b[43m)\u001b[49m\u001b[43m.\u001b[49m\u001b[43mdrop\u001b[49m\u001b[43m(\u001b[49m\n\u001b[32m   5604\u001b[39m \u001b[43m        \u001b[49m\u001b[43mlabels\u001b[49m\u001b[43m=\u001b[49m\u001b[43mlabels\u001b[49m\u001b[43m,\u001b[49m\n\u001b[32m   5605\u001b[39m \u001b[43m        \u001b[49m\u001b[43maxis\u001b[49m\u001b[43m=\u001b[49m\u001b[43maxis\u001b[49m\u001b[43m,\u001b[49m\n\u001b[32m   5606\u001b[39m \u001b[43m        \u001b[49m\u001b[43mindex\u001b[49m\u001b[43m=\u001b[49m\u001b[43mindex\u001b[49m\u001b[43m,\u001b[49m\n\u001b[32m   5607\u001b[39m \u001b[43m        \u001b[49m\u001b[43mcolumns\u001b[49m\u001b[43m=\u001b[49m\u001b[43mcolumns\u001b[49m\u001b[43m,\u001b[49m\n\u001b[32m   5608\u001b[39m \u001b[43m        \u001b[49m\u001b[43mlevel\u001b[49m\u001b[43m=\u001b[49m\u001b[43mlevel\u001b[49m\u001b[43m,\u001b[49m\n\u001b[32m   5609\u001b[39m \u001b[43m        \u001b[49m\u001b[43minplace\u001b[49m\u001b[43m=\u001b[49m\u001b[43minplace\u001b[49m\u001b[43m,\u001b[49m\n\u001b[32m   5610\u001b[39m \u001b[43m        \u001b[49m\u001b[43merrors\u001b[49m\u001b[43m=\u001b[49m\u001b[43merrors\u001b[49m\u001b[43m,\u001b[49m\n\u001b[32m   5611\u001b[39m \u001b[43m    \u001b[49m\u001b[43m)\u001b[49m\n",
      "\u001b[36mFile \u001b[39m\u001b[32mc:\\Users\\Anshuman Dutta\\Downloads\\Agentic AI Projects\\1st Project\\venv\\Lib\\site-packages\\pandas\\core\\generic.py:4810\u001b[39m, in \u001b[36mNDFrame.drop\u001b[39m\u001b[34m(self, labels, axis, index, columns, level, inplace, errors)\u001b[39m\n\u001b[32m   4808\u001b[39m \u001b[38;5;28;01mfor\u001b[39;00m axis, labels \u001b[38;5;129;01min\u001b[39;00m axes.items():\n\u001b[32m   4809\u001b[39m     \u001b[38;5;28;01mif\u001b[39;00m labels \u001b[38;5;129;01mis\u001b[39;00m \u001b[38;5;129;01mnot\u001b[39;00m \u001b[38;5;28;01mNone\u001b[39;00m:\n\u001b[32m-> \u001b[39m\u001b[32m4810\u001b[39m         obj = \u001b[43mobj\u001b[49m\u001b[43m.\u001b[49m\u001b[43m_drop_axis\u001b[49m\u001b[43m(\u001b[49m\u001b[43mlabels\u001b[49m\u001b[43m,\u001b[49m\u001b[43m \u001b[49m\u001b[43maxis\u001b[49m\u001b[43m,\u001b[49m\u001b[43m \u001b[49m\u001b[43mlevel\u001b[49m\u001b[43m=\u001b[49m\u001b[43mlevel\u001b[49m\u001b[43m,\u001b[49m\u001b[43m \u001b[49m\u001b[43merrors\u001b[49m\u001b[43m=\u001b[49m\u001b[43merrors\u001b[49m\u001b[43m)\u001b[49m\n\u001b[32m   4812\u001b[39m \u001b[38;5;28;01mif\u001b[39;00m inplace:\n\u001b[32m   4813\u001b[39m     \u001b[38;5;28mself\u001b[39m._update_inplace(obj)\n",
      "\u001b[36mFile \u001b[39m\u001b[32mc:\\Users\\Anshuman Dutta\\Downloads\\Agentic AI Projects\\1st Project\\venv\\Lib\\site-packages\\pandas\\core\\generic.py:4852\u001b[39m, in \u001b[36mNDFrame._drop_axis\u001b[39m\u001b[34m(self, labels, axis, level, errors, only_slice)\u001b[39m\n\u001b[32m   4850\u001b[39m         new_axis = axis.drop(labels, level=level, errors=errors)\n\u001b[32m   4851\u001b[39m     \u001b[38;5;28;01melse\u001b[39;00m:\n\u001b[32m-> \u001b[39m\u001b[32m4852\u001b[39m         new_axis = \u001b[43maxis\u001b[49m\u001b[43m.\u001b[49m\u001b[43mdrop\u001b[49m\u001b[43m(\u001b[49m\u001b[43mlabels\u001b[49m\u001b[43m,\u001b[49m\u001b[43m \u001b[49m\u001b[43merrors\u001b[49m\u001b[43m=\u001b[49m\u001b[43merrors\u001b[49m\u001b[43m)\u001b[49m\n\u001b[32m   4853\u001b[39m     indexer = axis.get_indexer(new_axis)\n\u001b[32m   4855\u001b[39m \u001b[38;5;66;03m# Case for non-unique axis\u001b[39;00m\n\u001b[32m   4856\u001b[39m \u001b[38;5;28;01melse\u001b[39;00m:\n",
      "\u001b[36mFile \u001b[39m\u001b[32mc:\\Users\\Anshuman Dutta\\Downloads\\Agentic AI Projects\\1st Project\\venv\\Lib\\site-packages\\pandas\\core\\indexes\\base.py:7136\u001b[39m, in \u001b[36mIndex.drop\u001b[39m\u001b[34m(self, labels, errors)\u001b[39m\n\u001b[32m   7134\u001b[39m \u001b[38;5;28;01mif\u001b[39;00m mask.any():\n\u001b[32m   7135\u001b[39m     \u001b[38;5;28;01mif\u001b[39;00m errors != \u001b[33m\"\u001b[39m\u001b[33mignore\u001b[39m\u001b[33m\"\u001b[39m:\n\u001b[32m-> \u001b[39m\u001b[32m7136\u001b[39m         \u001b[38;5;28;01mraise\u001b[39;00m \u001b[38;5;167;01mKeyError\u001b[39;00m(\u001b[33mf\u001b[39m\u001b[33m\"\u001b[39m\u001b[38;5;132;01m{\u001b[39;00mlabels[mask].tolist()\u001b[38;5;132;01m}\u001b[39;00m\u001b[33m not found in axis\u001b[39m\u001b[33m\"\u001b[39m)\n\u001b[32m   7137\u001b[39m     indexer = indexer[~mask]\n\u001b[32m   7138\u001b[39m \u001b[38;5;28;01mreturn\u001b[39;00m \u001b[38;5;28mself\u001b[39m.delete(indexer)\n",
      "\u001b[31mKeyError\u001b[39m: \"['Unnamed'] not found in axis\""
     ]
    }
   ],
   "source": [
    "df.sort_values(by=['Car Name','Year','Distance','Owner','Fuel','Location','Drive','Type','Price'],ascending=True,inplace=True)\n",
    "print(df)"
   ]
  },
  {
   "cell_type": "markdown",
   "id": "c7096b3f",
   "metadata": {},
   "source": [
    "## Data cleaning"
   ]
  },
  {
   "cell_type": "code",
   "execution_count": 39,
   "id": "24baf7c5",
   "metadata": {},
   "outputs": [
    {
     "name": "stdout",
     "output_type": "stream",
     "text": [
      "      Unnamed: 0          Car Name    Year  Distance  Owner    Fuel Location  \\\n",
      "1706        1706      BMW 3 Series  2013.0    153870      3  DIESEL    CH-01   \n",
      "5041        5041         Datsun Go  2014.0     18499      1  PETROL    MH-01   \n",
      "3741        3741         Datsun Go  2014.0     62884      1  PETROL    WB-24   \n",
      "981          981         Datsun Go  2014.0     66599      1  PETROL    KL-01   \n",
      "2145        2145         Datsun Go  2016.0     42285      1  PETROL    BR-01   \n",
      "...          ...               ...     ...       ...    ...     ...      ...   \n",
      "7135        7135  Volkswagen Vento  2021.0     28085      1  PETROL    GJ-05   \n",
      "5921        5921  Volkswagen Vento  2021.0     37535      1  PETROL    MH-02   \n",
      "4826        4826  Volkswagen Vento  2021.0     91750      2  PETROL    MH-43   \n",
      "7396        7396  Volkswagen Vento  2022.0     42247      1  PETROL    KA-05   \n",
      "4901        4901           Audi X3    2023     13794      1  PETROL    DL-14   \n",
      "\n",
      "          Drive       Type    Price  \n",
      "1706  Automatic  Lux_sedan  1005000  \n",
      "5041     Manual  HatchBack   250000  \n",
      "3741     Manual  HatchBack   179000  \n",
      "981      Manual  HatchBack   195000  \n",
      "2145     Manual  HatchBack   203000  \n",
      "...         ...        ...      ...  \n",
      "7135  Automatic      Sedan  1144000  \n",
      "5921  Automatic      Sedan   662000  \n",
      "4826     Manual      Sedan   624000  \n",
      "7396     Manual      Sedan   775650  \n",
      "4901  Automatic      Sedan   976000  \n",
      "\n",
      "[8015 rows x 10 columns]\n"
     ]
    },
    {
     "name": "stderr",
     "output_type": "stream",
     "text": [
      "C:\\Users\\Anshuman Dutta\\AppData\\Local\\Temp\\ipykernel_19180\\3449759998.py:1: FutureWarning: A value is trying to be set on a copy of a DataFrame or Series through chained assignment using an inplace method.\n",
      "The behavior will change in pandas 3.0. This inplace method will never work because the intermediate object on which we are setting values always behaves as a copy.\n",
      "\n",
      "For example, when doing 'df[col].method(value, inplace=True)', try using 'df.method({col: value}, inplace=True)' or df[col] = df[col].method(value) instead, to perform the operation inplace on the original object.\n",
      "\n",
      "\n",
      "  df['Location'].fillna(\"Punjab\",inplace=True)\n"
     ]
    }
   ],
   "source": [
    "\n",
    "\n",
    "df['Location'].fillna(\"Punjab\",inplace=True)\n",
    "df['Car Name'].fillna(\"Audi X3\",inplace=True)\n",
    "df['Year'].fillna(\"2023\",inplace=True)\n",
    "print(df)\n"
   ]
  },
  {
   "cell_type": "code",
   "execution_count": 38,
   "id": "80f6475b",
   "metadata": {},
   "outputs": [
    {
     "name": "stdout",
     "output_type": "stream",
     "text": [
      "Unnamed: 0    0\n",
      "Car Name      0\n",
      "Year          0\n",
      "Distance      0\n",
      "Owner         0\n",
      "Fuel          0\n",
      "Location      0\n",
      "Drive         0\n",
      "Type          0\n",
      "Price         0\n",
      "dtype: int64\n"
     ]
    }
   ],
   "source": [
    "print(df.isnull().sum())"
   ]
  },
  {
   "cell_type": "markdown",
   "id": "1f8a57c3",
   "metadata": {},
   "source": [
    "## Saving Clean Data"
   ]
  },
  {
   "cell_type": "code",
   "execution_count": null,
   "id": "527af8bb",
   "metadata": {},
   "outputs": [],
   "source": [
    "df.to_csv(\"cars_24_combined_cleaned.csv\", index=False)\n"
   ]
  },
  {
   "cell_type": "markdown",
   "id": "9de3c44b",
   "metadata": {},
   "source": [
    "## Now reading new data and visualizing"
   ]
  },
  {
   "cell_type": "code",
   "execution_count": 53,
   "id": "4172f569",
   "metadata": {},
   "outputs": [
    {
     "name": "stdout",
     "output_type": "stream",
     "text": [
      "              Car Name    Year  Distance  Owner    Fuel Location      Drive  \\\n",
      "0         BMW 3 Series  2013.0    153870      3  DIESEL    CH-01  Automatic   \n",
      "1            Datsun Go  2014.0     18499      1  PETROL    MH-01     Manual   \n",
      "2            Datsun Go  2014.0     62884      1  PETROL    WB-24     Manual   \n",
      "3            Datsun Go  2014.0     66599      1  PETROL    KL-01     Manual   \n",
      "4            Datsun Go  2016.0     42285      1  PETROL    BR-01     Manual   \n",
      "...                ...     ...       ...    ...     ...      ...        ...   \n",
      "8010  Volkswagen Vento  2021.0     28085      1  PETROL    GJ-05  Automatic   \n",
      "8011  Volkswagen Vento  2021.0     37535      1  PETROL    MH-02  Automatic   \n",
      "8012  Volkswagen Vento  2021.0     91750      2  PETROL    MH-43     Manual   \n",
      "8013  Volkswagen Vento  2022.0     42247      1  PETROL    KA-05     Manual   \n",
      "8014           Audi X3  2023.0     13794      1  PETROL    DL-14  Automatic   \n",
      "\n",
      "           Type    Price  \n",
      "0     Lux_sedan  1005000  \n",
      "1     HatchBack   250000  \n",
      "2     HatchBack   179000  \n",
      "3     HatchBack   195000  \n",
      "4     HatchBack   203000  \n",
      "...         ...      ...  \n",
      "8010      Sedan  1144000  \n",
      "8011      Sedan   662000  \n",
      "8012      Sedan   624000  \n",
      "8013      Sedan   775650  \n",
      "8014      Sedan   976000  \n",
      "\n",
      "[8015 rows x 9 columns]\n"
     ]
    }
   ],
   "source": [
    "df=pd.read_csv(\"cars_24_combined_cleaned.csv\")\n",
    "print(df)"
   ]
  }
 ],
 "metadata": {
  "kernelspec": {
   "display_name": "venv",
   "language": "python",
   "name": "python3"
  },
  "language_info": {
   "codemirror_mode": {
    "name": "ipython",
    "version": 3
   },
   "file_extension": ".py",
   "mimetype": "text/x-python",
   "name": "python",
   "nbconvert_exporter": "python",
   "pygments_lexer": "ipython3",
   "version": "3.13.3"
  }
 },
 "nbformat": 4,
 "nbformat_minor": 5
}
